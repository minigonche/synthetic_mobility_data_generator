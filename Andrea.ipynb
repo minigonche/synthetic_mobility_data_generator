{
 "cells": [
  {
   "cell_type": "code",
   "execution_count": 35,
   "metadata": {},
   "outputs": [],
   "source": [
    "from scipy.stats.mstats import winsorize\n",
    "from shapely import Point\n",
    "import datetime\n",
    "import numpy as np\n",
    "import pandas as pd\n",
    "import contextily as cx\n",
    "import matplotlib.pyplot as plt\n",
    "import geopandas as gpd\n",
    "from shapely.geometry import Polygon, MultiPolygon\n",
    "from scipy.interpolate import griddata \n",
    "from mpl_toolkits.basemap import Basemap\n",
    "from haversine import haversine\n",
    "\n",
    "from simulator.disasters.generic.earthquake import Earthquake\n",
    "from simulator.disasters.specific.drill_earthquake import DrillEarthQuake\n",
    "\n"
   ]
  },
  {
   "cell_type": "code",
   "execution_count": 7,
   "metadata": {},
   "outputs": [
    {
     "data": {
      "text/html": [
       "<div>\n",
       "<style scoped>\n",
       "    .dataframe tbody tr th:only-of-type {\n",
       "        vertical-align: middle;\n",
       "    }\n",
       "\n",
       "    .dataframe tbody tr th {\n",
       "        vertical-align: top;\n",
       "    }\n",
       "\n",
       "    .dataframe thead th {\n",
       "        text-align: right;\n",
       "    }\n",
       "</style>\n",
       "<table border=\"1\" class=\"dataframe\">\n",
       "  <thead>\n",
       "    <tr style=\"text-align: right;\">\n",
       "      <th></th>\n",
       "      <th>GID_2</th>\n",
       "      <th>GID_0</th>\n",
       "      <th>COUNTRY</th>\n",
       "      <th>GID_1</th>\n",
       "      <th>NAME_1</th>\n",
       "      <th>NL_NAME_1</th>\n",
       "      <th>NAME_2</th>\n",
       "      <th>VARNAME_2</th>\n",
       "      <th>NL_NAME_2</th>\n",
       "      <th>TYPE_2</th>\n",
       "      <th>ENGTYPE_2</th>\n",
       "      <th>CC_2</th>\n",
       "      <th>HASC_2</th>\n",
       "      <th>geometry</th>\n",
       "    </tr>\n",
       "  </thead>\n",
       "  <tbody>\n",
       "    <tr>\n",
       "      <th>0</th>\n",
       "      <td>PAN.1.1_1</td>\n",
       "      <td>PAN</td>\n",
       "      <td>Panama</td>\n",
       "      <td>PAN.1_1</td>\n",
       "      <td>Bocas del Toro</td>\n",
       "      <td>NA</td>\n",
       "      <td>Bocas del Toro</td>\n",
       "      <td>NA</td>\n",
       "      <td>NA</td>\n",
       "      <td>Distrito</td>\n",
       "      <td>District</td>\n",
       "      <td>NA</td>\n",
       "      <td>PA.BC.BT</td>\n",
       "      <td>MULTIPOLYGON (((-82.25736 9.16431, -82.25708 9...</td>\n",
       "    </tr>\n",
       "    <tr>\n",
       "      <th>1</th>\n",
       "      <td>PAN.1.2_1</td>\n",
       "      <td>PAN</td>\n",
       "      <td>Panama</td>\n",
       "      <td>PAN.1_1</td>\n",
       "      <td>Bocas del Toro</td>\n",
       "      <td>NA</td>\n",
       "      <td>Changuinola</td>\n",
       "      <td>NA</td>\n",
       "      <td>NA</td>\n",
       "      <td>Distrito</td>\n",
       "      <td>District</td>\n",
       "      <td>NA</td>\n",
       "      <td>PA.BC.CH</td>\n",
       "      <td>MULTIPOLYGON (((-82.76650 8.99789, -82.76719 8...</td>\n",
       "    </tr>\n",
       "    <tr>\n",
       "      <th>2</th>\n",
       "      <td>PAN.1.3_1</td>\n",
       "      <td>PAN</td>\n",
       "      <td>Panama</td>\n",
       "      <td>PAN.1_1</td>\n",
       "      <td>Bocas del Toro</td>\n",
       "      <td>NA</td>\n",
       "      <td>Chiriquí Grande</td>\n",
       "      <td>NA</td>\n",
       "      <td>NA</td>\n",
       "      <td>Distrito</td>\n",
       "      <td>District</td>\n",
       "      <td>NA</td>\n",
       "      <td>PA.BC.CG</td>\n",
       "      <td>MULTIPOLYGON (((-82.07708 8.92347, -82.07653 8...</td>\n",
       "    </tr>\n",
       "    <tr>\n",
       "      <th>3</th>\n",
       "      <td>PAN.2.1_1</td>\n",
       "      <td>PAN</td>\n",
       "      <td>Panama</td>\n",
       "      <td>PAN.2_1</td>\n",
       "      <td>Chiriquí</td>\n",
       "      <td>NA</td>\n",
       "      <td>Alanje</td>\n",
       "      <td>NA</td>\n",
       "      <td>NA</td>\n",
       "      <td>Distrito</td>\n",
       "      <td>District</td>\n",
       "      <td>NA</td>\n",
       "      <td>PA.CH.AL</td>\n",
       "      <td>POLYGON ((-82.52854 8.39068, -82.52721 8.39094...</td>\n",
       "    </tr>\n",
       "    <tr>\n",
       "      <th>4</th>\n",
       "      <td>PAN.2.2_1</td>\n",
       "      <td>PAN</td>\n",
       "      <td>Panama</td>\n",
       "      <td>PAN.2_1</td>\n",
       "      <td>Chiriquí</td>\n",
       "      <td>NA</td>\n",
       "      <td>Barú</td>\n",
       "      <td>NA</td>\n",
       "      <td>NA</td>\n",
       "      <td>Distrito</td>\n",
       "      <td>District</td>\n",
       "      <td>NA</td>\n",
       "      <td>PA.CH.BR</td>\n",
       "      <td>MULTIPOLYGON (((-82.88042 8.01931, -82.88042 8...</td>\n",
       "    </tr>\n",
       "  </tbody>\n",
       "</table>\n",
       "</div>"
      ],
      "text/plain": [
       "       GID_2 GID_0 COUNTRY    GID_1          NAME_1 NL_NAME_1  \\\n",
       "0  PAN.1.1_1   PAN  Panama  PAN.1_1  Bocas del Toro        NA   \n",
       "1  PAN.1.2_1   PAN  Panama  PAN.1_1  Bocas del Toro        NA   \n",
       "2  PAN.1.3_1   PAN  Panama  PAN.1_1  Bocas del Toro        NA   \n",
       "3  PAN.2.1_1   PAN  Panama  PAN.2_1        Chiriquí        NA   \n",
       "4  PAN.2.2_1   PAN  Panama  PAN.2_1        Chiriquí        NA   \n",
       "\n",
       "            NAME_2 VARNAME_2 NL_NAME_2    TYPE_2 ENGTYPE_2 CC_2    HASC_2  \\\n",
       "0   Bocas del Toro        NA        NA  Distrito  District   NA  PA.BC.BT   \n",
       "1      Changuinola        NA        NA  Distrito  District   NA  PA.BC.CH   \n",
       "2  Chiriquí Grande        NA        NA  Distrito  District   NA  PA.BC.CG   \n",
       "3           Alanje        NA        NA  Distrito  District   NA  PA.CH.AL   \n",
       "4             Barú        NA        NA  Distrito  District   NA  PA.CH.BR   \n",
       "\n",
       "                                            geometry  \n",
       "0  MULTIPOLYGON (((-82.25736 9.16431, -82.25708 9...  \n",
       "1  MULTIPOLYGON (((-82.76650 8.99789, -82.76719 8...  \n",
       "2  MULTIPOLYGON (((-82.07708 8.92347, -82.07653 8...  \n",
       "3  POLYGON ((-82.52854 8.39068, -82.52721 8.39094...  \n",
       "4  MULTIPOLYGON (((-82.88042 8.01931, -82.88042 8...  "
      ]
     },
     "execution_count": 7,
     "metadata": {},
     "output_type": "execute_result"
    }
   ],
   "source": [
    "gdf_panama = gpd.read_file(\"/Users/andreaparra/Dropbox/4_Work/data/shapefiles/panama/gadm41_PAN_shp/gadm41_PAN_2.shp\")\n",
    "gdf_panama.head()"
   ]
  },
  {
   "cell_type": "code",
   "execution_count": 2,
   "metadata": {},
   "outputs": [],
   "source": [
    "drill_earthqauke = DrillEarthQuake()"
   ]
  },
  {
   "cell_type": "code",
   "execution_count": 3,
   "metadata": {},
   "outputs": [
    {
     "name": "stdout",
     "output_type": "stream",
     "text": [
      "   Generating Disaster\n",
      "      Number of steps to compute: 87759 hr\n"
     ]
    }
   ],
   "source": [
    "d = datetime.datetime.strptime('2017-08-25 09:0:00', '%Y-%m-%d %H:%M:%S')\n",
    "fun = drill_earthqauke.get_function_by_date(d)\n"
   ]
  },
  {
   "cell_type": "code",
   "execution_count": 4,
   "metadata": {},
   "outputs": [
    {
     "data": {
      "text/html": [
       "<div>\n",
       "<style scoped>\n",
       "    .dataframe tbody tr th:only-of-type {\n",
       "        vertical-align: middle;\n",
       "    }\n",
       "\n",
       "    .dataframe tbody tr th {\n",
       "        vertical-align: top;\n",
       "    }\n",
       "\n",
       "    .dataframe thead th {\n",
       "        text-align: right;\n",
       "    }\n",
       "</style>\n",
       "<table border=\"1\" class=\"dataframe\">\n",
       "  <thead>\n",
       "    <tr style=\"text-align: right;\">\n",
       "      <th></th>\n",
       "      <th>intensity</th>\n",
       "      <th>geometry</th>\n",
       "      <th>magnitude</th>\n",
       "    </tr>\n",
       "  </thead>\n",
       "  <tbody>\n",
       "    <tr>\n",
       "      <th>0</th>\n",
       "      <td>8.552092e-07</td>\n",
       "      <td>POLYGON ((-85.21993 7.74863, -85.24659 7.84964...</td>\n",
       "      <td>1.000000</td>\n",
       "    </tr>\n",
       "    <tr>\n",
       "      <th>1</th>\n",
       "      <td>1.643101e-06</td>\n",
       "      <td>POLYGON ((-84.81180 8.05166, -84.82784 8.15267...</td>\n",
       "      <td>1.151960</td>\n",
       "    </tr>\n",
       "    <tr>\n",
       "      <th>2</th>\n",
       "      <td>3.114211e-06</td>\n",
       "      <td>POLYGON ((-84.51124 8.35469, -84.51124 8.45570...</td>\n",
       "      <td>1.435692</td>\n",
       "    </tr>\n",
       "    <tr>\n",
       "      <th>3</th>\n",
       "      <td>5.822690e-06</td>\n",
       "      <td>POLYGON ((-84.20651 8.15267, -84.22152 8.25368...</td>\n",
       "      <td>1.958074</td>\n",
       "    </tr>\n",
       "    <tr>\n",
       "      <th>4</th>\n",
       "      <td>1.073968e-05</td>\n",
       "      <td>POLYGON ((-83.90555 8.05166, -83.93379 8.15267...</td>\n",
       "      <td>2.906408</td>\n",
       "    </tr>\n",
       "  </tbody>\n",
       "</table>\n",
       "</div>"
      ],
      "text/plain": [
       "      intensity                                           geometry  magnitude\n",
       "0  8.552092e-07  POLYGON ((-85.21993 7.74863, -85.24659 7.84964...   1.000000\n",
       "1  1.643101e-06  POLYGON ((-84.81180 8.05166, -84.82784 8.15267...   1.151960\n",
       "2  3.114211e-06  POLYGON ((-84.51124 8.35469, -84.51124 8.45570...   1.435692\n",
       "3  5.822690e-06  POLYGON ((-84.20651 8.15267, -84.22152 8.25368...   1.958074\n",
       "4  1.073968e-05  POLYGON ((-83.90555 8.05166, -83.93379 8.15267...   2.906408"
      ]
     },
     "execution_count": 4,
     "metadata": {},
     "output_type": "execute_result"
    },
    {
     "data": {
      "image/png": "[encoded data removed]",
      "text/plain": [
       "<Figure size 432x288 with 1 Axes>"
      ]
     },
     "metadata": {
      "needs_background": "light"
     },
     "output_type": "display_data"
    }
   ],
   "source": [
    "gdf = fun.generate_geopandas()\n",
    "# gdf.rename(columns={\"intensity\": \"margnitude\"}, inplace=True)\n",
    "\n",
    "# scale to richter\n",
    "min_target = 1\n",
    "max_target = 7.6\n",
    "\n",
    "gdf[\"magnitude\"] = ((max_target - min_target) * \\\n",
    "                    (gdf[\"intensity\"] - gdf[\"intensity\"].min()) / (gdf[\"intensity\"].max() - gdf[\"intensity\"].min())) + \\\n",
    "                     min_target\n",
    "\n",
    "gdf.head()\n",
    "\n"
   ]
  },
  {
   "cell_type": "code",
   "execution_count": 7,
   "metadata": {},
   "outputs": [
    {
     "data": {
      "text/plain": [
       "[1.5, 0, 1.5, 1.5, 0, 0]"
      ]
     },
     "execution_count": 7,
     "metadata": {},
     "output_type": "execute_result"
    }
   ],
   "source": [
    "density = [1.5 if i < 300 \\\n",
    "                   else 0 for i in [200, 4009, 10, 90, 300, 301]]\n",
    "density\n",
    "\n"
   ]
  },
  {
   "cell_type": "code",
   "execution_count": 6,
   "metadata": {},
   "outputs": [],
   "source": [
    "with open(\"earthquake.geojson\", 'w') as out:\n",
    "    out.write(gdf.to_json())\n"
   ]
  },
  {
   "cell_type": "code",
   "execution_count": 9,
   "metadata": {},
   "outputs": [],
   "source": [
    "from math import radians, sin, cos, asin, sqrt\n",
    "import numpy as np"
   ]
  },
  {
   "cell_type": "code",
   "execution_count": 33,
   "metadata": {},
   "outputs": [],
   "source": [
    "def haversine(lon1, lat1, lon2, lat2, rads = False):\n",
    "    \"\"\"\n",
    "    Calculate the great circle distance in kilometers between two points \n",
    "    on the earth (specified in decimal degrees)\n",
    "    Taken from: https://stackoverflow.com/questions/4913349/haversine-formula-in-python-bearing-and-distance-between-two-gps-points\n",
    "    \"\"\"\n",
    "    # convert decimal degrees to radians \n",
    "    if not rads:\n",
    "        lon1, lat1, lon2, lat2 = map(radians, [lon1, lat1, lon2, lat2])\n",
    "\n",
    "    # haversine formula \n",
    "    dlon = lon2 - lon1 \n",
    "    dlat = lat2 - lat1 \n",
    "    a = sin(dlat/2)**2 + cos(lat1) * cos(lat2) * sin(dlon/2)**2\n",
    "    c = 2 * asin(sqrt(a)) \n",
    "    r = 6371*1000 # Radius of earth in kilometers. Use 3956 for miles. Determines return value units.\n",
    "    return c * r\n",
    "\n",
    "def np_haversine(lon1, lat1, lon2, lat2, rads = False):\n",
    "    \"\"\"\n",
    "    Calculate the great circle distance in kilometers between two points \n",
    "    on the earth (specified in decimal degrees)\n",
    "    Taken from: https://stackoverflow.com/questions/4913349/haversine-formula-in-python-bearing-and-distance-between-two-gps-points\n",
    "    \"\"\"\n",
    "    # convert decimal degrees to radians \n",
    "    print(lon1, lat1, lon2, lat2)\n",
    "    if not rads:\n",
    "        lon1 = np.radians(lon1)\n",
    "        lat1 = np.radians(lat1)\n",
    "        lon2 = np.radians(lon2)\n",
    "        lat2 = np.radians(lat1)\n",
    "\n",
    "    # haversine formula \n",
    "    dlon = lon2 - lon1 \n",
    "    dlat = lat2 - lat1 \n",
    "    a = np.sin(dlat/2)**2 + (np.cos(lat1) * np.cos(lat2) * np.sin(dlon/2)**2)\n",
    "    c = 2 * np.arcsin(np.sqrt(a)) \n",
    "    r = 6371 # Radius of earth in kilometers. Use 3956 for miles. Determines return value units.\n",
    "    return c * r"
   ]
  },
  {
   "cell_type": "code",
   "execution_count": 37,
   "metadata": {},
   "outputs": [
    {
     "data": {
      "text/plain": [
       "63.306594192363086"
      ]
     },
     "execution_count": 37,
     "metadata": {},
     "output_type": "execute_result"
    }
   ],
   "source": [
    "poi = [[8.424514, -82.793912], [8.869377, -83.153290]]\n",
    "lat_1 = np.radians(poi[0][0])\n",
    "lon_1 = np.radians(poi[0][1])\n",
    "lat_2 = np.radians(poi[1][0])\n",
    "lon_2 = np.radians(poi[1][1])\n",
    "\n",
    "# np_haversine(-82.793912, 8.424514, -83.153290, 8.869377, rads = False)\n",
    "haversine((8.424514, -82.793912), (8.869377, -83.153290), unit='km')"
   ]
  },
  {
   "cell_type": "code",
   "execution_count": null,
   "metadata": {},
   "outputs": [
    {
     "data": {
      "image/png": "[encoded data removed]",
      "text/plain": [
       "<Figure size 432x288 with 1 Axes>"
      ]
     },
     "metadata": {
      "needs_background": "light"
     },
     "output_type": "display_data"
    }
   ],
   "source": [
    "gdf = t_0.generate_geopandas()"
   ]
  },
  {
   "cell_type": "code",
   "execution_count": null,
   "metadata": {},
   "outputs": [
    {
     "data": {
      "image/png": "[encoded data removed]",
      "text/plain": [
       "<Figure size 1080x360 with 1 Axes>"
      ]
     },
     "metadata": {
      "needs_background": "light"
     },
     "output_type": "display_data"
    }
   ],
   "source": [
    "fig, ax = plt.subplots(1, 1, figsize=(15,5))\n",
    "\n",
    "# Points in shapely are Point(lon, lat)\n",
    "pois = [Point(-82.869058, 8.360193), Point(-82.787767, 9.415969),  Point(-82.896869, 8.363514), \n",
    "        Point(-83.108523, 8.397710), Point(-81.274001, 8.302333), Point(-81.782823, 7.451571)]\n",
    "colors = [\"red\", \"green\", \"blue\", \"grey\", \"yellow\", \"black\"]\n",
    "gdf_panama.plot(ax=ax)\n",
    "gdf.plot(column=\"intensity\", ax=ax, alpha=0.2)\n",
    "for idx, poi in enumerate(pois):\n",
    "    ax.plot(poi.x, poi.y, color=colors[idx], marker='o',  markersize=8)\n"
   ]
  },
  {
   "cell_type": "code",
   "execution_count": null,
   "metadata": {},
   "outputs": [
    {
     "data": {
      "text/plain": [
       "[0.0,\n",
       " 4.344000662116514,\n",
       " 276.8841186175392,\n",
       " 279.01609215692866,\n",
       " 91.98390485624623,\n",
       " 130.10572050664695]"
      ]
     },
     "execution_count": 8,
     "metadata": {},
     "output_type": "execute_result"
    }
   ],
   "source": [
    "# List of directions at every point\n",
    "directions = t_0.direction(pois)\n",
    "directions"
   ]
  },
  {
   "cell_type": "code",
   "execution_count": null,
   "metadata": {},
   "outputs": [
    {
     "data": {
      "text/plain": [
       "[10.0,\n",
       " 3.2586529489338627,\n",
       " 9.99215826862586,\n",
       " 9.429415215123937,\n",
       " 0.7827283955533144,\n",
       " 1.3459292664123554]"
      ]
     },
     "execution_count": 10,
     "metadata": {},
     "output_type": "execute_result"
    }
   ],
   "source": [
    "# List of bearings (degrees) at every point\n",
    "intensities = t_0.intensity(pois)\n",
    "intensities"
   ]
  },
  {
   "attachments": {},
   "cell_type": "markdown",
   "metadata": {},
   "source": [
    "# FB data processor"
   ]
  },
  {
   "attachments": {},
   "cell_type": "markdown",
   "metadata": {},
   "source": [
    "### Population density"
   ]
  },
  {
   "cell_type": "code",
   "execution_count": 1,
   "metadata": {},
   "outputs": [
    {
     "name": "stderr",
     "output_type": "stream",
     "text": [
      "/Users/andreaparra/Virtual-Envs/python_3.9/lib/python3.9/site-packages/geopandas/_compat.py:124: UserWarning: The Shapely GEOS version (3.11.1-CAPI-1.17.1) is incompatible with the GEOS version PyGEOS was compiled with (3.9.1-CAPI-1.14.2). Conversions between both will be slow.\n",
      "  warnings.warn(\n",
      "<ipython-input-1-5b87847f432d>:4: DeprecationWarning: Shapely 2.0 is installed, but because PyGEOS is also installed, GeoPandas still uses PyGEOS by default. However, starting with version 0.14, the default will switch to Shapely. To force to use Shapely 2.0 now, you can either uninstall PyGEOS or set the environment variable USE_PYGEOS=0. You can do this before starting the Python process, or in your code before importing geopandas:\n",
      "\n",
      "import os\n",
      "os.environ['USE_PYGEOS'] = '0'\n",
      "import geopandas\n",
      "\n",
      "In the next release, GeoPandas will switch to using Shapely by default, even if PyGEOS is installed. If you only have PyGEOS installed to get speed-ups, this switch should be smooth. However, if you are using PyGEOS directly (calling PyGEOS functions on geometries from GeoPandas), this will then stop working and you are encouraged to migrate from PyGEOS to Shapely 2.0 (https://shapely.readthedocs.io/en/latest/migration_pygeos.html).\n",
      "  import geopandas as gpd\n"
     ]
    }
   ],
   "source": [
    "import os\n",
    "import datetime\n",
    "import pandas as pd\n",
    "import geopandas as gpd\n",
    "import matplotlib.pyplot as plt\n",
    "\n",
    "from simulator.data_processors.generic.FB_population_density import FBPopulationDensity\n",
    "import simulator.utils.facebook as fb_fun\n",
    "import simulator.constants as con"
   ]
  },
  {
   "cell_type": "code",
   "execution_count": 2,
   "metadata": {},
   "outputs": [],
   "source": [
    "# 2023-03-01 13:55:26\n",
    "base_dir = \"/Users/andreaparra/Dropbox/4_Work/CrisisReady/synthetic_mobility_data/data/results\"\n",
    "data_dir = os.path.join(base_dir, \"panama_costa_rica_drill\")\n",
    "out_dir = base_dir\n",
    "data_processor = FBPopulationDensity(disaster_name=\"panama_costa_rica_drill\", data_dir=data_dir, \n",
    "                                     crisis_datetime=datetime.datetime(2017, 8, 25, 8, 34, 0), agg_geometry='tile',\n",
    "                                     out_dir=out_dir, baseline_cols=[])"
   ]
  },
  {
   "cell_type": "code",
   "execution_count": 3,
   "metadata": {},
   "outputs": [
    {
     "name": "stdout",
     "output_type": "stream",
     "text": [
      "Calulates fb population density statistics.\n",
      "  Builds raw dataset.\n",
      "    Loads files from disk.\n",
      "    Done.\n",
      "    Builds baseline.\n",
      "    Builds crisis.\n",
      "    Done.\n",
      "All Done.\n"
     ]
    },
    {
     "name": "stderr",
     "output_type": "stream",
     "text": [
      "/Users/andreaparra/Virtual-Envs/python_3.9/lib/python3.9/site-packages/pandas/core/frame.py:5034: SettingWithCopyWarning: \n",
      "A value is trying to be set on a copy of a slice from a DataFrame\n",
      "\n",
      "See the caveats in the documentation: https://pandas.pydata.org/pandas-docs/stable/user_guide/indexing.html#returning-a-view-versus-a-copy\n",
      "  return super().rename(\n"
     ]
    }
   ],
   "source": [
    "data_processor.build_dataset()"
   ]
  },
  {
   "cell_type": "code",
   "execution_count": 4,
   "metadata": {},
   "outputs": [
    {
     "data": {
      "text/html": [
       "<div>\n",
       "<style scoped>\n",
       "    .dataframe tbody tr th:only-of-type {\n",
       "        vertical-align: middle;\n",
       "    }\n",
       "\n",
       "    .dataframe tbody tr th {\n",
       "        vertical-align: top;\n",
       "    }\n",
       "\n",
       "    .dataframe thead th {\n",
       "        text-align: right;\n",
       "    }\n",
       "</style>\n",
       "<table border=\"1\" class=\"dataframe\">\n",
       "  <thead>\n",
       "    <tr style=\"text-align: right;\">\n",
       "      <th></th>\n",
       "      <th>latitude</th>\n",
       "      <th>longitude</th>\n",
       "      <th>quadkey</th>\n",
       "      <th>n_baseline</th>\n",
       "      <th>n_baseline_std</th>\n",
       "      <th>date_time</th>\n",
       "      <th>n_crisis</th>\n",
       "      <th>n_difference</th>\n",
       "      <th>density_baseline</th>\n",
       "      <th>density_crisis</th>\n",
       "      <th>percent_change</th>\n",
       "      <th>z_score</th>\n",
       "      <th>ds</th>\n",
       "    </tr>\n",
       "  </thead>\n",
       "  <tbody>\n",
       "    <tr>\n",
       "      <th>0</th>\n",
       "      <td>8.037473</td>\n",
       "      <td>-82.902832</td>\n",
       "      <td>03222121020013</td>\n",
       "      <td>285.764706</td>\n",
       "      <td>27.20186</td>\n",
       "      <td>2017-08-25 16:00:00</td>\n",
       "      <td>551</td>\n",
       "      <td>265.235294</td>\n",
       "      <td>0.00014</td>\n",
       "      <td>0.000269</td>\n",
       "      <td>92.492308</td>\n",
       "      <td>9.750631</td>\n",
       "      <td>2017-08-25</td>\n",
       "    </tr>\n",
       "    <tr>\n",
       "      <th>1</th>\n",
       "      <td>8.037473</td>\n",
       "      <td>-82.902832</td>\n",
       "      <td>03222121020013</td>\n",
       "      <td>285.764706</td>\n",
       "      <td>27.20186</td>\n",
       "      <td>2017-08-26 00:00:00</td>\n",
       "      <td>645</td>\n",
       "      <td>359.235294</td>\n",
       "      <td>0.00014</td>\n",
       "      <td>0.000315</td>\n",
       "      <td>125.271795</td>\n",
       "      <td>13.206277</td>\n",
       "      <td>2017-08-26</td>\n",
       "    </tr>\n",
       "    <tr>\n",
       "      <th>2</th>\n",
       "      <td>8.037473</td>\n",
       "      <td>-82.902832</td>\n",
       "      <td>03222121020013</td>\n",
       "      <td>285.764706</td>\n",
       "      <td>27.20186</td>\n",
       "      <td>2017-08-26 08:00:00</td>\n",
       "      <td>589</td>\n",
       "      <td>303.235294</td>\n",
       "      <td>0.00014</td>\n",
       "      <td>0.000288</td>\n",
       "      <td>105.743590</td>\n",
       "      <td>11.147594</td>\n",
       "      <td>2017-08-26</td>\n",
       "    </tr>\n",
       "    <tr>\n",
       "      <th>3</th>\n",
       "      <td>8.037473</td>\n",
       "      <td>-82.902832</td>\n",
       "      <td>03222121020013</td>\n",
       "      <td>285.764706</td>\n",
       "      <td>27.20186</td>\n",
       "      <td>2017-08-26 16:00:00</td>\n",
       "      <td>391</td>\n",
       "      <td>105.235294</td>\n",
       "      <td>0.00014</td>\n",
       "      <td>0.000191</td>\n",
       "      <td>36.697436</td>\n",
       "      <td>3.868680</td>\n",
       "      <td>2017-08-26</td>\n",
       "    </tr>\n",
       "    <tr>\n",
       "      <th>4</th>\n",
       "      <td>8.037473</td>\n",
       "      <td>-82.902832</td>\n",
       "      <td>03222121020013</td>\n",
       "      <td>285.764706</td>\n",
       "      <td>27.20186</td>\n",
       "      <td>2017-08-27 00:00:00</td>\n",
       "      <td>322</td>\n",
       "      <td>36.235294</td>\n",
       "      <td>0.00014</td>\n",
       "      <td>0.000157</td>\n",
       "      <td>12.635897</td>\n",
       "      <td>1.332089</td>\n",
       "      <td>2017-08-27</td>\n",
       "    </tr>\n",
       "  </tbody>\n",
       "</table>\n",
       "</div>"
      ],
      "text/plain": [
       "   latitude  longitude         quadkey  n_baseline  n_baseline_std  \\\n",
       "0  8.037473 -82.902832  03222121020013  285.764706        27.20186   \n",
       "1  8.037473 -82.902832  03222121020013  285.764706        27.20186   \n",
       "2  8.037473 -82.902832  03222121020013  285.764706        27.20186   \n",
       "3  8.037473 -82.902832  03222121020013  285.764706        27.20186   \n",
       "4  8.037473 -82.902832  03222121020013  285.764706        27.20186   \n",
       "\n",
       "            date_time  n_crisis  n_difference  density_baseline  \\\n",
       "0 2017-08-25 16:00:00       551    265.235294           0.00014   \n",
       "1 2017-08-26 00:00:00       645    359.235294           0.00014   \n",
       "2 2017-08-26 08:00:00       589    303.235294           0.00014   \n",
       "3 2017-08-26 16:00:00       391    105.235294           0.00014   \n",
       "4 2017-08-27 00:00:00       322     36.235294           0.00014   \n",
       "\n",
       "   density_crisis  percent_change    z_score          ds  \n",
       "0        0.000269       92.492308   9.750631  2017-08-25  \n",
       "1        0.000315      125.271795  13.206277  2017-08-26  \n",
       "2        0.000288      105.743590  11.147594  2017-08-26  \n",
       "3        0.000191       36.697436   3.868680  2017-08-26  \n",
       "4        0.000157       12.635897   1.332089  2017-08-27  "
      ]
     },
     "execution_count": 4,
     "metadata": {},
     "output_type": "execute_result"
    }
   ],
   "source": [
    "data_processor.data().head()"
   ]
  },
  {
   "cell_type": "code",
   "execution_count": 6,
   "metadata": {},
   "outputs": [],
   "source": [
    " def write_dataset_to_file(s):\n",
    "    out_folder = \"/Users/andreaparra/Dropbox/4_Work/CrisisReady/synthetic_mobility_data/data/results/disaster-name=panama_costa_rica_drill/dataset=population-density/scale=tile\"\n",
    "    \n",
    "    if not os.path.exists(out_folder):\n",
    "        os.mkdir(out_folder)\n",
    "\n",
    "    for date in s.data()[con.DS].unique():\n",
    "        for hour in [0, 8, 16]:\n",
    "            # file naming conventions\n",
    "            date_str = datetime.datetime.strftime(date, \"%Y-%m-%d\")\n",
    "            hour_str = f\"0{hour}00\" if hour // 10 == 0 else f\"{hour}00\"\n",
    "            file_name = f\"{s.dataset_id()}_{date_str}_{hour_str}.csv\"\n",
    "            out_file = os.path.join(out_folder, file_name)\n",
    "\n",
    "            df_tmp = s.data().loc[(s.data()[con.DS] == date) & (s.data()[con.DATE_TIME].dt.hour == hour)]\n",
    "            df_tmp[con.DS] = date_str\n",
    "            df_tmp[con.FB_TILE_POP_DENSITY_COLS].to_csv(out_file, index=False)"
   ]
  },
  {
   "cell_type": "code",
   "execution_count": 8,
   "metadata": {},
   "outputs": [
    {
     "name": "stderr",
     "output_type": "stream",
     "text": [
      "<ipython-input-6-9f912f9bc082>:16: SettingWithCopyWarning: \n",
      "A value is trying to be set on a copy of a slice from a DataFrame.\n",
      "Try using .loc[row_indexer,col_indexer] = value instead\n",
      "\n",
      "See the caveats in the documentation: https://pandas.pydata.org/pandas-docs/stable/user_guide/indexing.html#returning-a-view-versus-a-copy\n",
      "  df_tmp[con.DS] = date_str\n"
     ]
    }
   ],
   "source": [
    "write_dataset_to_file(data_processor)"
   ]
  },
  {
   "cell_type": "code",
   "execution_count": 10,
   "metadata": {},
   "outputs": [
    {
     "name": "stderr",
     "output_type": "stream",
     "text": [
      "/Users/andreaparra/Dropbox/4_Work/CrisisReady/synthetic_mobility_data/synthetic_mobility_data_generator/simulator/data_processors/generic/FB_population_density.py:299: SettingWithCopyWarning: \n",
      "A value is trying to be set on a copy of a slice from a DataFrame.\n",
      "Try using .loc[row_indexer,col_indexer] = value instead\n",
      "\n",
      "See the caveats in the documentation: https://pandas.pydata.org/pandas-docs/stable/user_guide/indexing.html#returning-a-view-versus-a-copy\n",
      "  df[con.DATE_TIME] = df[con.DATE_TIME].dt.strftime(con.READYMAPPER_DT_FORMAT)\n",
      "/Users/andreaparra/Virtual-Envs/python_3.9/lib/python3.9/site-packages/pandas/core/frame.py:5034: SettingWithCopyWarning: \n",
      "A value is trying to be set on a copy of a slice from a DataFrame\n",
      "\n",
      "See the caveats in the documentation: https://pandas.pydata.org/pandas-docs/stable/user_guide/indexing.html#returning-a-view-versus-a-copy\n",
      "  return super().rename(\n"
     ]
    }
   ],
   "source": [
    "data_processor.write_as_readymapper_output(\"/Users/andreaparra/Dropbox/4_Work/CrisisReady/synthetic_mobility_data/data/results/disaster-name=panama_costa_rica_drill/readymapper/datatset=population_density/scale=tile\")"
   ]
  },
  {
   "attachments": {},
   "cell_type": "markdown",
   "metadata": {},
   "source": [
    "### FB mobility"
   ]
  },
  {
   "cell_type": "code",
   "execution_count": 1,
   "metadata": {},
   "outputs": [
    {
     "name": "stderr",
     "output_type": "stream",
     "text": [
      "/Users/andreaparra/Virtual-Envs/python_3.9/lib/python3.9/site-packages/geopandas/_compat.py:124: UserWarning: The Shapely GEOS version (3.11.1-CAPI-1.17.1) is incompatible with the GEOS version PyGEOS was compiled with (3.9.1-CAPI-1.14.2). Conversions between both will be slow.\n",
      "  warnings.warn(\n",
      "<ipython-input-1-7bafe99cb1d8>:4: DeprecationWarning: Shapely 2.0 is installed, but because PyGEOS is also installed, GeoPandas still uses PyGEOS by default. However, starting with version 0.14, the default will switch to Shapely. To force to use Shapely 2.0 now, you can either uninstall PyGEOS or set the environment variable USE_PYGEOS=0. You can do this before starting the Python process, or in your code before importing geopandas:\n",
      "\n",
      "import os\n",
      "os.environ['USE_PYGEOS'] = '0'\n",
      "import geopandas\n",
      "\n",
      "In the next release, GeoPandas will switch to using Shapely by default, even if PyGEOS is installed. If you only have PyGEOS installed to get speed-ups, this switch should be smooth. However, if you are using PyGEOS directly (calling PyGEOS functions on geometries from GeoPandas), this will then stop working and you are encouraged to migrate from PyGEOS to Shapely 2.0 (https://shapely.readthedocs.io/en/latest/migration_pygeos.html).\n",
      "  import geopandas as gpd\n"
     ]
    }
   ],
   "source": [
    "import os\n",
    "import datetime\n",
    "import pandas as pd\n",
    "import geopandas as gpd\n",
    "import matplotlib.pyplot as plt\n",
    "\n",
    "from simulator.data_processors.generic.FB_mobility import FBMobility\n",
    "import simulator.utils.facebook as fb_fun\n",
    "import simulator.constants as con\n",
    "import simulator.utils.general as fun"
   ]
  },
  {
   "cell_type": "code",
   "execution_count": 2,
   "metadata": {},
   "outputs": [],
   "source": [
    "# 2023-03-01 13:55:26\n",
    "scale = 'tile'\n",
    "base_dir = \"/Users/andreaparra/Dropbox/4_Work/CrisisReady/synthetic_mobility_data/data/results\"\n",
    "data_dir = os.path.join(base_dir, \"panama_costa_rica_drill\")\n",
    "out_dir = base_dir\n",
    "data_processor = FBMobility(disaster_name=\"panama_costa_rica_drill\", data_dir=data_dir, \n",
    "                                     crisis_datetime=datetime.datetime(2017, 8, 25, 8, 34, 00), agg_geometry=scale,\n",
    "                                     out_dir=out_dir, baseline_cols=[], geo_file=\"/Users/andreaparra/Dropbox/4_Work/CrisisReady/synthetic_mobility_data/data/costa_rica-panama/gadm41_CRI-PAN_2\")"
   ]
  },
  {
   "cell_type": "code",
   "execution_count": 3,
   "metadata": {},
   "outputs": [
    {
     "name": "stdout",
     "output_type": "stream",
     "text": [
      "Calulates fb mobility statistics.\n",
      "  Builds raw dataset.\n",
      "    Loads files from disk.\n",
      "    Done.\n",
      "(8916004, 6)\n",
      "(8916004, 7)\n",
      "(4531084, 7)\n",
      "(518521, 10)\n",
      "    Builds baseline.\n",
      "(290900, 10)\n",
      "    Builds crisis.\n",
      "(227621, 10)\n",
      "    Done.\n"
     ]
    },
    {
     "name": "stderr",
     "output_type": "stream",
     "text": [
      "/Users/andreaparra/Virtual-Envs/python_3.9/lib/python3.9/site-packages/pandas/core/frame.py:5034: SettingWithCopyWarning: \n",
      "A value is trying to be set on a copy of a slice from a DataFrame\n",
      "\n",
      "See the caveats in the documentation: https://pandas.pydata.org/pandas-docs/stable/user_guide/indexing.html#returning-a-view-versus-a-copy\n",
      "  return super().rename(\n"
     ]
    },
    {
     "name": "stdout",
     "output_type": "stream",
     "text": [
      "All Done.\n"
     ]
    }
   ],
   "source": [
    "data_processor.build_dataset()"
   ]
  },
  {
   "cell_type": "code",
   "execution_count": 6,
   "metadata": {},
   "outputs": [
    {
     "data": {
      "text/html": [
       "<div>\n",
       "<style scoped>\n",
       "    .dataframe tbody tr th:only-of-type {\n",
       "        vertical-align: middle;\n",
       "    }\n",
       "\n",
       "    .dataframe tbody tr th {\n",
       "        vertical-align: top;\n",
       "    }\n",
       "\n",
       "    .dataframe thead th {\n",
       "        text-align: right;\n",
       "    }\n",
       "</style>\n",
       "<table border=\"1\" class=\"dataframe\">\n",
       "  <thead>\n",
       "    <tr style=\"text-align: right;\">\n",
       "      <th></th>\n",
       "      <th>start_latitude</th>\n",
       "      <th>start_longitude</th>\n",
       "      <th>end_latitude</th>\n",
       "      <th>end_longitude</th>\n",
       "      <th>start_quadkey</th>\n",
       "      <th>end_quadkey</th>\n",
       "      <th>n_baseline</th>\n",
       "      <th>n_baseline_std</th>\n",
       "      <th>date_time</th>\n",
       "      <th>day_of_week</th>\n",
       "      <th>hour</th>\n",
       "      <th>n_crisis</th>\n",
       "      <th>length_km</th>\n",
       "      <th>n_difference</th>\n",
       "      <th>percent_change</th>\n",
       "      <th>z_score</th>\n",
       "      <th>ds</th>\n",
       "    </tr>\n",
       "  </thead>\n",
       "  <tbody>\n",
       "    <tr>\n",
       "      <th>0</th>\n",
       "      <td>8.037473</td>\n",
       "      <td>-82.902832</td>\n",
       "      <td>8.037473</td>\n",
       "      <td>-82.902832</td>\n",
       "      <td>03222121020013</td>\n",
       "      <td>03222121020013</td>\n",
       "      <td>60.176471</td>\n",
       "      <td>18.08741</td>\n",
       "      <td>2017-08-25 16:00:00</td>\n",
       "      <td>4</td>\n",
       "      <td>16</td>\n",
       "      <td>217</td>\n",
       "      <td>0.0</td>\n",
       "      <td>156.823529</td>\n",
       "      <td>256.346154</td>\n",
       "      <td>8.670314</td>\n",
       "      <td>2017-08-25</td>\n",
       "    </tr>\n",
       "    <tr>\n",
       "      <th>1</th>\n",
       "      <td>8.037473</td>\n",
       "      <td>-82.902832</td>\n",
       "      <td>8.037473</td>\n",
       "      <td>-82.902832</td>\n",
       "      <td>03222121020013</td>\n",
       "      <td>03222121020013</td>\n",
       "      <td>60.176471</td>\n",
       "      <td>18.08741</td>\n",
       "      <td>2017-08-26 00:00:00</td>\n",
       "      <td>5</td>\n",
       "      <td>0</td>\n",
       "      <td>131</td>\n",
       "      <td>0.0</td>\n",
       "      <td>70.823529</td>\n",
       "      <td>115.769231</td>\n",
       "      <td>3.915626</td>\n",
       "      <td>2017-08-26</td>\n",
       "    </tr>\n",
       "    <tr>\n",
       "      <th>2</th>\n",
       "      <td>8.037473</td>\n",
       "      <td>-82.902832</td>\n",
       "      <td>8.037473</td>\n",
       "      <td>-82.902832</td>\n",
       "      <td>03222121020013</td>\n",
       "      <td>03222121020013</td>\n",
       "      <td>60.176471</td>\n",
       "      <td>18.08741</td>\n",
       "      <td>2017-08-26 08:00:00</td>\n",
       "      <td>5</td>\n",
       "      <td>8</td>\n",
       "      <td>113</td>\n",
       "      <td>0.0</td>\n",
       "      <td>52.823529</td>\n",
       "      <td>86.346154</td>\n",
       "      <td>2.920458</td>\n",
       "      <td>2017-08-26</td>\n",
       "    </tr>\n",
       "    <tr>\n",
       "      <th>3</th>\n",
       "      <td>8.037473</td>\n",
       "      <td>-82.902832</td>\n",
       "      <td>8.037473</td>\n",
       "      <td>-82.902832</td>\n",
       "      <td>03222121020013</td>\n",
       "      <td>03222121020013</td>\n",
       "      <td>60.176471</td>\n",
       "      <td>18.08741</td>\n",
       "      <td>2017-08-26 16:00:00</td>\n",
       "      <td>5</td>\n",
       "      <td>16</td>\n",
       "      <td>74</td>\n",
       "      <td>0.0</td>\n",
       "      <td>13.823529</td>\n",
       "      <td>22.596154</td>\n",
       "      <td>0.764262</td>\n",
       "      <td>2017-08-26</td>\n",
       "    </tr>\n",
       "    <tr>\n",
       "      <th>4</th>\n",
       "      <td>8.037473</td>\n",
       "      <td>-82.902832</td>\n",
       "      <td>8.037473</td>\n",
       "      <td>-82.902832</td>\n",
       "      <td>03222121020013</td>\n",
       "      <td>03222121020013</td>\n",
       "      <td>60.176471</td>\n",
       "      <td>18.08741</td>\n",
       "      <td>2017-08-27 00:00:00</td>\n",
       "      <td>6</td>\n",
       "      <td>0</td>\n",
       "      <td>53</td>\n",
       "      <td>0.0</td>\n",
       "      <td>-7.176471</td>\n",
       "      <td>-11.730769</td>\n",
       "      <td>-0.396766</td>\n",
       "      <td>2017-08-27</td>\n",
       "    </tr>\n",
       "  </tbody>\n",
       "</table>\n",
       "</div>"
      ],
      "text/plain": [
       "   start_latitude  start_longitude  end_latitude  end_longitude  \\\n",
       "0        8.037473       -82.902832      8.037473     -82.902832   \n",
       "1        8.037473       -82.902832      8.037473     -82.902832   \n",
       "2        8.037473       -82.902832      8.037473     -82.902832   \n",
       "3        8.037473       -82.902832      8.037473     -82.902832   \n",
       "4        8.037473       -82.902832      8.037473     -82.902832   \n",
       "\n",
       "    start_quadkey     end_quadkey  n_baseline  n_baseline_std  \\\n",
       "0  03222121020013  03222121020013   60.176471        18.08741   \n",
       "1  03222121020013  03222121020013   60.176471        18.08741   \n",
       "2  03222121020013  03222121020013   60.176471        18.08741   \n",
       "3  03222121020013  03222121020013   60.176471        18.08741   \n",
       "4  03222121020013  03222121020013   60.176471        18.08741   \n",
       "\n",
       "            date_time  day_of_week  hour  n_crisis  length_km  n_difference  \\\n",
       "0 2017-08-25 16:00:00            4    16       217        0.0    156.823529   \n",
       "1 2017-08-26 00:00:00            5     0       131        0.0     70.823529   \n",
       "2 2017-08-26 08:00:00            5     8       113        0.0     52.823529   \n",
       "3 2017-08-26 16:00:00            5    16        74        0.0     13.823529   \n",
       "4 2017-08-27 00:00:00            6     0        53        0.0     -7.176471   \n",
       "\n",
       "   percent_change   z_score          ds  \n",
       "0      256.346154  8.670314  2017-08-25  \n",
       "1      115.769231  3.915626  2017-08-26  \n",
       "2       86.346154  2.920458  2017-08-26  \n",
       "3       22.596154  0.764262  2017-08-26  \n",
       "4      -11.730769 -0.396766  2017-08-27  "
      ]
     },
     "execution_count": 6,
     "metadata": {},
     "output_type": "execute_result"
    }
   ],
   "source": [
    "data_processor.data().head()"
   ]
  },
  {
   "cell_type": "code",
   "execution_count": 5,
   "metadata": {},
   "outputs": [],
   "source": [
    "cols = [con.FB_START_LATITUDE, con.FB_START_LONGITUDE, con.FB_END_LATITUDE, con.FB_END_LONGITUDE, con.LENGTH_KM, \"start_GID_2\", \"end_GID_2\", con.DATE_TIME, con.N_BASELINE, con.N_CRISIS, con.N_DIFFERENCE, con.\n",
    "                        PERCENT_CHANGE, con.Z_SCORE, con.DS]"
   ]
  },
  {
   "cell_type": "code",
   "execution_count": 6,
   "metadata": {},
   "outputs": [
    {
     "ename": "NameError",
     "evalue": "name 'self' is not defined",
     "output_type": "error",
     "traceback": [
      "\u001b[0;31m---------------------------------------------------------------------------\u001b[0m",
      "\u001b[0;31mNameError\u001b[0m                                 Traceback (most recent call last)",
      "\u001b[0;32m<ipython-input-6-69b1659a7f5e>\u001b[0m in \u001b[0;36m<module>\u001b[0;34m\u001b[0m\n\u001b[1;32m      7\u001b[0m         \u001b[0mdate_str\u001b[0m \u001b[0;34m=\u001b[0m \u001b[0mdatetime\u001b[0m\u001b[0;34m.\u001b[0m\u001b[0mdatetime\u001b[0m\u001b[0;34m.\u001b[0m\u001b[0mstrftime\u001b[0m\u001b[0;34m(\u001b[0m\u001b[0mdate\u001b[0m\u001b[0;34m,\u001b[0m \u001b[0;34m\"%Y-%m-%d\"\u001b[0m\u001b[0;34m)\u001b[0m\u001b[0;34m\u001b[0m\u001b[0;34m\u001b[0m\u001b[0m\n\u001b[1;32m      8\u001b[0m         \u001b[0mhour_str\u001b[0m \u001b[0;34m=\u001b[0m \u001b[0;34mf\"0{hour}00\"\u001b[0m \u001b[0;32mif\u001b[0m \u001b[0mhour\u001b[0m \u001b[0;34m//\u001b[0m \u001b[0;36m10\u001b[0m \u001b[0;34m==\u001b[0m \u001b[0;36m0\u001b[0m \u001b[0;32melse\u001b[0m \u001b[0;34mf\"{hour}00\"\u001b[0m\u001b[0;34m\u001b[0m\u001b[0;34m\u001b[0m\u001b[0m\n\u001b[0;32m----> 9\u001b[0;31m         \u001b[0mfile_name\u001b[0m \u001b[0;34m=\u001b[0m \u001b[0;34mf\"{self.dataset_id()}_{date_str}_{hour_str}.csv\"\u001b[0m\u001b[0;34m\u001b[0m\u001b[0;34m\u001b[0m\u001b[0m\n\u001b[0m\u001b[1;32m     10\u001b[0m         \u001b[0mout_file\u001b[0m \u001b[0;34m=\u001b[0m \u001b[0mos\u001b[0m\u001b[0;34m.\u001b[0m\u001b[0mpath\u001b[0m\u001b[0;34m.\u001b[0m\u001b[0mjoin\u001b[0m\u001b[0;34m(\u001b[0m\u001b[0mout_folder\u001b[0m\u001b[0;34m,\u001b[0m \u001b[0mfile_name\u001b[0m\u001b[0;34m)\u001b[0m\u001b[0;34m\u001b[0m\u001b[0;34m\u001b[0m\u001b[0m\n\u001b[1;32m     11\u001b[0m \u001b[0;34m\u001b[0m\u001b[0m\n",
      "\u001b[0;31mNameError\u001b[0m: name 'self' is not defined"
     ]
    }
   ],
   "source": [
    "df= data_processor.data()\n",
    "out_folder = \"/Users/andreaparra/Dropbox/4_Work/CrisisReady/synthetic_mobility_data/data/results/disaster-name=panama_costa_rica_drill/dataset=mobility/scale=tile\"\n",
    "\n",
    "for date in df[con.DS].unique():\n",
    "    for hour in [0, 8, 16]:\n",
    "        # file naming conventions\n",
    "        date_str = datetime.datetime.strftime(date, \"%Y-%m-%d\")\n",
    "        hour_str = f\"0{hour}00\" if hour // 10 == 0 else f\"{hour}00\"\n",
    "        file_name = f\"{data_processor.dataset_id()}_{date_str}_{hour_str}.csv\"\n",
    "        out_file = os.path.join(out_folder, file_name)\n",
    "\n",
    "        df_tmp = df.loc[(df[con.DS] == date) & (df[con.DATE_TIME].dt.hour == hour)]\n",
    "        df_tmp[con.DS] = date_str\n",
    "        if self.__agg_geometry == \"tile\":\n",
    "            df_tmp[con.FB_TILE_MOBILITY_COLS].to_csv(out_file, index=False)\n",
    "        elif self.__agg_geometry == \"admin\":\n",
    "            df_tmp[con.FB_ADMIN_MOBILITY_COLS].to_csv(out_file, index=False)"
   ]
  },
  {
   "cell_type": "code",
   "execution_count": 8,
   "metadata": {},
   "outputs": [
    {
     "data": {
      "text/html": [
       "<div>\n",
       "<style scoped>\n",
       "    .dataframe tbody tr th:only-of-type {\n",
       "        vertical-align: middle;\n",
       "    }\n",
       "\n",
       "    .dataframe tbody tr th {\n",
       "        vertical-align: top;\n",
       "    }\n",
       "\n",
       "    .dataframe thead th {\n",
       "        text-align: right;\n",
       "    }\n",
       "</style>\n",
       "<table border=\"1\" class=\"dataframe\">\n",
       "  <thead>\n",
       "    <tr style=\"text-align: right;\">\n",
       "      <th></th>\n",
       "      <th>start_latitude</th>\n",
       "      <th>start_longitude</th>\n",
       "      <th>end_latitude</th>\n",
       "      <th>end_longitude</th>\n",
       "      <th>start_quadkey</th>\n",
       "      <th>end_quadkey</th>\n",
       "      <th>n_baseline</th>\n",
       "      <th>n_baseline_std</th>\n",
       "      <th>date_time</th>\n",
       "      <th>day_of_week</th>\n",
       "      <th>hour</th>\n",
       "      <th>n_crisis</th>\n",
       "      <th>length_km</th>\n",
       "      <th>n_difference</th>\n",
       "      <th>percent_change</th>\n",
       "      <th>z_score</th>\n",
       "      <th>ds</th>\n",
       "    </tr>\n",
       "  </thead>\n",
       "  <tbody>\n",
       "  </tbody>\n",
       "</table>\n",
       "</div>"
      ],
      "text/plain": [
       "Empty DataFrame\n",
       "Columns: [start_latitude, start_longitude, end_latitude, end_longitude, start_quadkey, end_quadkey, n_baseline, n_baseline_std, date_time, day_of_week, hour, n_crisis, length_km, n_difference, percent_change, z_score, ds]\n",
       "Index: []"
      ]
     },
     "execution_count": 8,
     "metadata": {},
     "output_type": "execute_result"
    }
   ],
   "source": [
    "date = df[con.DS].unique()[0]\n",
    "hour = \"8\"\n",
    "df_tmp = df.loc[(df[con.DS] == date) & (df[con.DATE_TIME] == hour)]\n",
    "\n",
    "df_tmp.head()"
   ]
  },
  {
   "cell_type": "code",
   "execution_count": null,
   "metadata": {},
   "outputs": [],
   "source": [
    "def write_dataset_to_file(s):\n",
    "    \n",
    "    \n",
    "    if not os.path.exists(out_folder):\n",
    "        os.mkdir(out_folder)\n",
    "\n",
    "    for date in self.__data[con.DS].unique():\n",
    "        for hour in [0, 8, 16]:\n",
    "            # file naming conventions\n",
    "            date_str = datetime.datetime.strftime(date, \"%Y-%m-%d\")\n",
    "            hour_str = f\"0{hour}00\" if hour // 10 == 0 else f\"{hour}00\"\n",
    "            file_name = f\"{self.dataset_id()}_{date_str}_{hour_str}.csv\"\n",
    "            out_file = os.path.join(out_folder, file_name)\n",
    "\n",
    "            df_tmp = self.__data.loc[(self.__data[con.DS] == date) & (self.__data[con.DATE_TIME] == hour)]\n",
    "            df_tmp[con.DS] = date_str\n",
    "            if self.__agg_geometry == \"tile\":\n",
    "                df_tmp[con.FB_TILE_MOBILITY_COLS].to_csv(out_file, index=False)\n",
    "            elif self.__agg_geometry == \"admin\":\n",
    "                df_tmp[con.FB_ADMIN_MOBILITY_COLS].to_csv(out_file, index=False)"
   ]
  },
  {
   "cell_type": "code",
   "execution_count": 9,
   "metadata": {},
   "outputs": [
    {
     "name": "stderr",
     "output_type": "stream",
     "text": [
      "/Users/andreaparra/Dropbox/4_Work/CrisisReady/synthetic_mobility_data/synthetic_mobility_data_generator/simulator/data_processors/generic/FB_mobility.py:344: SettingWithCopyWarning: \n",
      "A value is trying to be set on a copy of a slice from a DataFrame.\n",
      "Try using .loc[row_indexer,col_indexer] = value instead\n",
      "\n",
      "See the caveats in the documentation: https://pandas.pydata.org/pandas-docs/stable/user_guide/indexing.html#returning-a-view-versus-a-copy\n",
      "  df[con.DATE_TIME] = df[con.DATE_TIME].dt.strftime(con.READYMAPPER_MOV_DT_FORMAT)\n",
      "/Users/andreaparra/Virtual-Envs/python_3.9/lib/python3.9/site-packages/pandas/core/frame.py:5034: SettingWithCopyWarning: \n",
      "A value is trying to be set on a copy of a slice from a DataFrame\n",
      "\n",
      "See the caveats in the documentation: https://pandas.pydata.org/pandas-docs/stable/user_guide/indexing.html#returning-a-view-versus-a-copy\n",
      "  return super().rename(\n"
     ]
    }
   ],
   "source": [
    "out_folder = f\"/Users/andreaparra/Dropbox/4_Work/CrisisReady/synthetic_mobility_data/data/results/disaster-name=panama_costa_rica_drill/readymapper/dataset=mobility/scale={scale}\"\n",
    "data_processor.write_as_readymapper_output(out_folder)"
   ]
  },
  {
   "cell_type": "code",
   "execution_count": null,
   "metadata": {},
   "outputs": [],
   "source": []
  }
 ],
 "metadata": {
  "kernelspec": {
   "display_name": "python_3.9",
   "language": "python",
   "name": "python_3.9"
  },
  "language_info": {
   "codemirror_mode": {
    "name": "ipython",
    "version": 3
   },
   "file_extension": ".py",
   "mimetype": "text/x-python",
   "name": "python",
   "nbconvert_exporter": "python",
   "pygments_lexer": "ipython3",
   "version": "3.9.16"
  },
  "orig_nbformat": 4
 },
 "nbformat": 4,
 "nbformat_minor": 2
}
