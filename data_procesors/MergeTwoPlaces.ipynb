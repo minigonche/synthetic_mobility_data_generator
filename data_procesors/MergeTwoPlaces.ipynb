{
 "cells": [
  {
   "cell_type": "markdown",
   "metadata": {},
   "source": [
    "# Merge Two Places\n",
    "Notebook for merging two places into a single folder."
   ]
  },
  {
   "cell_type": "code",
   "execution_count": 16,
   "metadata": {},
   "outputs": [],
   "source": [
    "import os\n",
    "import json\n",
    "import pandas as pd\n",
    "\n",
    "import geopandas as gpd\n",
    "import glob\n",
    "with open('../config.json') as f:\n",
    "    CONFIG = json.load(f)\n",
    "\n",
    "# Global constants from config\n",
    "DATA_FOLDER = CONFIG['data_folder']\n",
    "\n"
   ]
  },
  {
   "cell_type": "code",
   "execution_count": 2,
   "metadata": {},
   "outputs": [],
   "source": [
    "place_1 = \"costa_rica\"\n",
    "place_2 = \"panama\""
   ]
  },
  {
   "cell_type": "code",
   "execution_count": 4,
   "metadata": {},
   "outputs": [],
   "source": [
    "# Creates destination folder\n",
    "dest_folder = os.path.join(DATA_FOLDER, f\"{place_1}-{place_2}\")\n",
    "if not os.path.exists(dest_folder):\n",
    "    os.mkdir(dest_folder)"
   ]
  },
  {
   "cell_type": "code",
   "execution_count": 15,
   "metadata": {},
   "outputs": [],
   "source": [
    "# Merges Data Pop Data\n",
    "data_pop_1 = pd.read_csv(glob.glob(os.path.join(DATA_FOLDER, place_1, \"*_pd_2020_1km_ASCII_XYZ.csv\"))[0])\n",
    "data_pop_2 = pd.read_csv(glob.glob(os.path.join(DATA_FOLDER, place_2, \"*_pd_2020_1km_ASCII_XYZ.csv\"))[0])\n",
    "\n",
    "data_pop = pd.concat((data_pop_1, data_pop_2), ignore_index=True)\n",
    "data_pop.to_csv(os.path.join(dest_folder, \"pd_2020_1km_ASCII_XYZ.csv\"), index=False)\n"
   ]
  },
  {
   "cell_type": "code",
   "execution_count": 20,
   "metadata": {},
   "outputs": [],
   "source": [
    "# Merges Populated Places\n",
    "populated_places_1 = gpd.read_file(glob.glob(os.path.join(DATA_FOLDER, place_1, \"hotosm_*_populated_places_points_shp\"))[0])\n",
    "populated_places_2 = gpd.read_file(glob.glob(os.path.join(DATA_FOLDER, place_2, \"hotosm_*_populated_places_points_shp\"))[0])\n",
    "\n",
    "\n",
    "populated_places = pd.concat((populated_places_1, populated_places_2), ignore_index=True)\n",
    "populated_places.to_file(os.path.join(dest_folder, \"hotosm_populated_places_points_shp\"))\n"
   ]
  },
  {
   "cell_type": "code",
   "execution_count": 21,
   "metadata": {},
   "outputs": [],
   "source": [
    "# Merges Building Polygons\n",
    "building_polygons_1 = gpd.read_file(glob.glob(os.path.join(DATA_FOLDER, place_1, \"hotosm_*_buildings_polygons_shp\"))[0])\n",
    "building_polygons_2 = gpd.read_file(glob.glob(os.path.join(DATA_FOLDER, place_2, \"hotosm_*_buildings_polygons_shp\"))[0])\n",
    "\n",
    "\n",
    "building_polygons = pd.concat((building_polygons_1, building_polygons_2), ignore_index=True)\n",
    "building_polygons.to_file(os.path.join(dest_folder, \"hotosm_buildings_polygons_shp\"))"
   ]
  },
  {
   "cell_type": "code",
   "execution_count": 22,
   "metadata": {},
   "outputs": [],
   "source": [
    "# Merges Building Polygons\n",
    "roads_1 = gpd.read_file(glob.glob(os.path.join(DATA_FOLDER, place_1, \"hotosm_*_roads_lines_shp\"))[0])\n",
    "roads_2 = gpd.read_file(glob.glob(os.path.join(DATA_FOLDER, place_2, \"hotosm_*_roads_lines_shp\"))[0])\n"
   ]
  },
  {
   "cell_type": "code",
   "execution_count": 51,
   "metadata": {},
   "outputs": [],
   "source": [
    "inter = gpd.sjoin(roads_1[[\"osm_id\",\"geometry\"]], roads_2[[\"osm_id\",\"geometry\"]])\n",
    "\n",
    "ids_1 = inter.index.values\n",
    "ids_2 = inter[\"index_right\"].values\n",
    "\n",
    "temp_roads_1 = roads_1.loc[ids_1].copy()\n",
    "temp_roads_1[\"group\"] = range(temp_roads_1.shape[0])\n",
    "temp_roads_2 = roads_2.loc[ids_2].copy()\n",
    "temp_roads_2[\"group\"] = range(temp_roads_2.shape[0])\n",
    "\n",
    "\n",
    "temp_roads = pd.concat((temp_roads_1, temp_roads_2), ignore_index=True).sort_values(\"group\")\n",
    "final_roads = temp_roads.dissolve(by='group').reset_index()[roads_1.columns]\n",
    "\n",
    "final_roads.to_file(\"temp\")\n",
    "\n",
    "# Concats the three element\n",
    "roads = pd.concat((roads_1.loc[~roads_1.index.isin(ids_1)], roads_2.loc[~roads_2.index.isin(ids_2)], final_roads), ignore_index=True)\n",
    "roads.to_file(os.path.join(dest_folder, \"hotosm_roads_lines_shp\"))\n"
   ]
  }
 ],
 "metadata": {
  "kernelspec": {
   "display_name": "Python 3.10.6 ('env': venv)",
   "language": "python",
   "name": "python3"
  },
  "language_info": {
   "codemirror_mode": {
    "name": "ipython",
    "version": 3
   },
   "file_extension": ".py",
   "mimetype": "text/x-python",
   "name": "python",
   "nbconvert_exporter": "python",
   "pygments_lexer": "ipython3",
   "version": "3.10.6"
  },
  "orig_nbformat": 4,
  "vscode": {
   "interpreter": {
    "hash": "7d42e00d2dd3125b765bd601a0de590a75cce952f7a5958ff6090f14125512ca"
   }
  }
 },
 "nbformat": 4,
 "nbformat_minor": 2
}
