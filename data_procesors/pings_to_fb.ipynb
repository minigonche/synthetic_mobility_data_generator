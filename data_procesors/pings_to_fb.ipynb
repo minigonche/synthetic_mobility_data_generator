{
 "cells": [
  {
   "cell_type": "code",
   "execution_count": 67,
   "metadata": {},
   "outputs": [],
   "source": [
    "\n",
    "import os\n",
    "import sys\n",
    "import datetime\n",
    "import pandas as pd\n",
    "\n",
    "#local imports\n",
    "sys.path.append(\"..\")\n",
    "import simulator.utils.translate_to_fb as fb_utils\n",
    "import simulator.constants as con"
   ]
  },
  {
   "cell_type": "code",
   "execution_count": 68,
   "metadata": {},
   "outputs": [
    {
     "data": {
      "text/html": [
       "<div>\n",
       "<style scoped>\n",
       "    .dataframe tbody tr th:only-of-type {\n",
       "        vertical-align: middle;\n",
       "    }\n",
       "\n",
       "    .dataframe tbody tr th {\n",
       "        vertical-align: top;\n",
       "    }\n",
       "\n",
       "    .dataframe thead th {\n",
       "        text-align: right;\n",
       "    }\n",
       "</style>\n",
       "<table border=\"1\" class=\"dataframe\">\n",
       "  <thead>\n",
       "    <tr style=\"text-align: right;\">\n",
       "      <th></th>\n",
       "      <th>identifier</th>\n",
       "      <th>timestamp</th>\n",
       "      <th>date</th>\n",
       "      <th>device_lat</th>\n",
       "      <th>device_lon</th>\n",
       "    </tr>\n",
       "  </thead>\n",
       "  <tbody>\n",
       "    <tr>\n",
       "      <th>0</th>\n",
       "      <td>a869f588-d7e3-40aa-951c-7352154a7c4c</td>\n",
       "      <td>2020-02-01 15:27:13</td>\n",
       "      <td>2020-02-01</td>\n",
       "      <td>4.964664</td>\n",
       "      <td>-73.916862</td>\n",
       "    </tr>\n",
       "    <tr>\n",
       "      <th>1</th>\n",
       "      <td>75e311c4-9c2b-43c2-85f2-c7c25f9903ad</td>\n",
       "      <td>2020-02-01 23:37:04</td>\n",
       "      <td>2020-02-01</td>\n",
       "      <td>4.782922</td>\n",
       "      <td>-74.761330</td>\n",
       "    </tr>\n",
       "    <tr>\n",
       "      <th>2</th>\n",
       "      <td>4619d188-6cd4-487b-baf8-40ac83789a20</td>\n",
       "      <td>2020-02-01 14:30:58</td>\n",
       "      <td>2020-02-01</td>\n",
       "      <td>4.505649</td>\n",
       "      <td>-73.349306</td>\n",
       "    </tr>\n",
       "    <tr>\n",
       "      <th>3</th>\n",
       "      <td>be8e1fb8-d3ca-4067-83ae-5e3de312cd1d</td>\n",
       "      <td>2020-02-01 17:58:23</td>\n",
       "      <td>2020-02-01</td>\n",
       "      <td>4.721836</td>\n",
       "      <td>-74.215469</td>\n",
       "    </tr>\n",
       "    <tr>\n",
       "      <th>4</th>\n",
       "      <td>2860106b-2be2-4c8a-8c27-901308cd04ae</td>\n",
       "      <td>2020-02-01 02:39:19</td>\n",
       "      <td>2020-02-01</td>\n",
       "      <td>4.607332</td>\n",
       "      <td>-74.213275</td>\n",
       "    </tr>\n",
       "  </tbody>\n",
       "</table>\n",
       "</div>"
      ],
      "text/plain": [
       "                             identifier           timestamp       date  \\\n",
       "0  a869f588-d7e3-40aa-951c-7352154a7c4c 2020-02-01 15:27:13 2020-02-01   \n",
       "1  75e311c4-9c2b-43c2-85f2-c7c25f9903ad 2020-02-01 23:37:04 2020-02-01   \n",
       "2  4619d188-6cd4-487b-baf8-40ac83789a20 2020-02-01 14:30:58 2020-02-01   \n",
       "3  be8e1fb8-d3ca-4067-83ae-5e3de312cd1d 2020-02-01 17:58:23 2020-02-01   \n",
       "4  2860106b-2be2-4c8a-8c27-901308cd04ae 2020-02-01 02:39:19 2020-02-01   \n",
       "\n",
       "   device_lat  device_lon  \n",
       "0    4.964664  -73.916862  \n",
       "1    4.782922  -74.761330  \n",
       "2    4.505649  -73.349306  \n",
       "3    4.721836  -74.215469  \n",
       "4    4.607332  -74.213275  "
      ]
     },
     "execution_count": 68,
     "metadata": {},
     "output_type": "execute_result"
    }
   ],
   "source": [
    "data = os.listdir(os.path.join(con.DATA_FOLDER))\n",
    "sample_data = data[0]\n",
    "\n",
    "df_data = pd.read_csv(os.path.join(con.DATA_FOLDER, sample_data),\n",
    "                      parse_dates=[\"timestamp\", \"date\"], dtype={\"identifier\": str})\n",
    "df_data.drop(columns=\"province_short\", inplace=True)\n",
    "df_data.head()"
   ]
  },
  {
   "cell_type": "code",
   "execution_count": 69,
   "metadata": {},
   "outputs": [],
   "source": [
    "# Calculate quadkey\n",
    "df_data[\"quadkey\"] = fb_utils.extract_quad_keys(df_data[[\"device_lat\", \"device_lon\"]].to_numpy())"
   ]
  },
  {
   "cell_type": "code",
   "execution_count": 70,
   "metadata": {},
   "outputs": [],
   "source": [
    "def to_fb_date(t):\n",
    "    fb_date = t.replace(second=0, microsecond=0, minute=0, hour=t.hour)\n",
    "    if t.hour >= 16 and t.hour < 24:\n",
    "        fb_date = t.replace(second=0, microsecond=0, minute=0, hour=16)\n",
    "    elif t.hour >= 0 and t.hour < 8:\n",
    "        fb_date = t.replace(second=0, microsecond=0, minute=0, hour=0)\n",
    "    elif t.hour >= 8 and t.hour < 16:\n",
    "        fb_date = t.replace(second=0, microsecond=0, minute=0, hour=8)\n",
    "    return fb_date\n"
   ]
  },
  {
   "cell_type": "code",
   "execution_count": 71,
   "metadata": {},
   "outputs": [
    {
     "name": "stdout",
     "output_type": "stream",
     "text": [
      "Dropped 19767 duplicates.\n"
     ]
    }
   ],
   "source": [
    "# Set time intervals\n",
    "df_data[\"fb_datetime\"] = df_data[\"timestamp\"].apply(to_fb_date)\n",
    "\n",
    "\n",
    "# If the same person appeared at multiple locations in a time interval we only count their most frequent location.\n",
    "df_data.sort_values(\"fb_datetime\", inplace=True)\n",
    "before = df_data.shape[0]\n",
    "df_data.drop_duplicates(subset=[\"identifier\", \"fb_datetime\"], \n",
    "                        keep=\"last\", inplace=True)\n",
    "after = df_data.shape[0]\n",
    "print(f\"Dropped {before - after} duplicates.\")\n"
   ]
  },
  {
   "cell_type": "code",
   "execution_count": 72,
   "metadata": {},
   "outputs": [
    {
     "data": {
      "text/html": [
       "<div>\n",
       "<style scoped>\n",
       "    .dataframe tbody tr th:only-of-type {\n",
       "        vertical-align: middle;\n",
       "    }\n",
       "\n",
       "    .dataframe tbody tr th {\n",
       "        vertical-align: top;\n",
       "    }\n",
       "\n",
       "    .dataframe thead th {\n",
       "        text-align: right;\n",
       "    }\n",
       "</style>\n",
       "<table border=\"1\" class=\"dataframe\">\n",
       "  <thead>\n",
       "    <tr style=\"text-align: right;\">\n",
       "      <th></th>\n",
       "      <th>quadkey</th>\n",
       "      <th>fb_datetime</th>\n",
       "      <th>population</th>\n",
       "    </tr>\n",
       "  </thead>\n",
       "  <tbody>\n",
       "    <tr>\n",
       "      <th>71726</th>\n",
       "      <td>33212133211212</td>\n",
       "      <td>2020-02-01</td>\n",
       "      <td>1</td>\n",
       "    </tr>\n",
       "    <tr>\n",
       "      <th>71769</th>\n",
       "      <td>33212133211212</td>\n",
       "      <td>2020-02-01</td>\n",
       "      <td>1</td>\n",
       "    </tr>\n",
       "    <tr>\n",
       "      <th>72589</th>\n",
       "      <td>33212133211212</td>\n",
       "      <td>2020-02-01</td>\n",
       "      <td>1</td>\n",
       "    </tr>\n",
       "    <tr>\n",
       "      <th>73238</th>\n",
       "      <td>33212133211212</td>\n",
       "      <td>2020-02-01</td>\n",
       "      <td>1</td>\n",
       "    </tr>\n",
       "    <tr>\n",
       "      <th>72591</th>\n",
       "      <td>33212133211212</td>\n",
       "      <td>2020-02-01</td>\n",
       "      <td>1</td>\n",
       "    </tr>\n",
       "  </tbody>\n",
       "</table>\n",
       "</div>"
      ],
      "text/plain": [
       "              quadkey fb_datetime  population\n",
       "71726  33212133211212  2020-02-01           1\n",
       "71769  33212133211212  2020-02-01           1\n",
       "72589  33212133211212  2020-02-01           1\n",
       "73238  33212133211212  2020-02-01           1\n",
       "72591  33212133211212  2020-02-01           1"
      ]
     },
     "execution_count": 72,
     "metadata": {},
     "output_type": "execute_result"
    }
   ],
   "source": [
    "df_data.drop(columns=[\"identifier\", \"timestamp\", \"date\", \n",
    "                      \"device_lat\", \"device_lon\"], inplace=True)\n",
    "df_data[\"population\"] = 1\n",
    "df_data.head()\n"
   ]
  },
  {
   "cell_type": "code",
   "execution_count": 73,
   "metadata": {},
   "outputs": [],
   "source": [
    "df_data = df_data.groupby([\"quadkey\", \"fb_datetime\"])[\"population\"].sum().reset_index()"
   ]
  },
  {
   "cell_type": "code",
   "execution_count": 74,
   "metadata": {},
   "outputs": [
    {
     "data": {
      "text/html": [
       "<div>\n",
       "<style scoped>\n",
       "    .dataframe tbody tr th:only-of-type {\n",
       "        vertical-align: middle;\n",
       "    }\n",
       "\n",
       "    .dataframe tbody tr th {\n",
       "        vertical-align: top;\n",
       "    }\n",
       "\n",
       "    .dataframe thead th {\n",
       "        text-align: right;\n",
       "    }\n",
       "</style>\n",
       "<table border=\"1\" class=\"dataframe\">\n",
       "  <thead>\n",
       "    <tr style=\"text-align: right;\">\n",
       "      <th></th>\n",
       "      <th>quadkey</th>\n",
       "      <th>fb_datetime</th>\n",
       "      <th>population</th>\n",
       "    </tr>\n",
       "  </thead>\n",
       "  <tbody>\n",
       "    <tr>\n",
       "      <th>0</th>\n",
       "      <td>33212133003321</td>\n",
       "      <td>2020-02-07 08:00:00</td>\n",
       "      <td>1</td>\n",
       "    </tr>\n",
       "    <tr>\n",
       "      <th>1</th>\n",
       "      <td>33212133003321</td>\n",
       "      <td>2020-02-10 16:00:00</td>\n",
       "      <td>1</td>\n",
       "    </tr>\n",
       "    <tr>\n",
       "      <th>2</th>\n",
       "      <td>33212133003321</td>\n",
       "      <td>2020-03-01 08:00:00</td>\n",
       "      <td>1</td>\n",
       "    </tr>\n",
       "    <tr>\n",
       "      <th>3</th>\n",
       "      <td>33212133003321</td>\n",
       "      <td>2020-03-02 08:00:00</td>\n",
       "      <td>1</td>\n",
       "    </tr>\n",
       "    <tr>\n",
       "      <th>4</th>\n",
       "      <td>33212133003321</td>\n",
       "      <td>2020-03-08 08:00:00</td>\n",
       "      <td>1</td>\n",
       "    </tr>\n",
       "  </tbody>\n",
       "</table>\n",
       "</div>"
      ],
      "text/plain": [
       "          quadkey         fb_datetime  population\n",
       "0  33212133003321 2020-02-07 08:00:00           1\n",
       "1  33212133003321 2020-02-10 16:00:00           1\n",
       "2  33212133003321 2020-03-01 08:00:00           1\n",
       "3  33212133003321 2020-03-02 08:00:00           1\n",
       "4  33212133003321 2020-03-08 08:00:00           1"
      ]
     },
     "execution_count": 74,
     "metadata": {},
     "output_type": "execute_result"
    }
   ],
   "source": [
    "df_data.head()"
   ]
  },
  {
   "cell_type": "code",
   "execution_count": null,
   "metadata": {},
   "outputs": [],
   "source": []
  }
 ],
 "metadata": {
  "kernelspec": {
   "display_name": "python_3.9",
   "language": "python",
   "name": "python_3.9"
  },
  "language_info": {
   "codemirror_mode": {
    "name": "ipython",
    "version": 3
   },
   "file_extension": ".py",
   "mimetype": "text/x-python",
   "name": "python",
   "nbconvert_exporter": "python",
   "pygments_lexer": "ipython3",
   "version": "3.9.16"
  },
  "orig_nbformat": 4
 },
 "nbformat": 4,
 "nbformat_minor": 2
}
